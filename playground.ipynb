{
 "cells": [
  {
   "cell_type": "markdown",
   "metadata": {},
   "source": [
    "# Quickstart: Azure Blob Storage client library for Go\n",
    "\n",
    "Azure Blob Storage is Microsoft's object storage solution for the cloud. Blob storage is optimized for storing massive amounts of unstructured data.\n",
    "\n",
    "Follow steps to install the package and try out example code for basic tasks.\n",
    "\n",
    "## Prerequisites\n",
    "\n",
    "- Azure subscription - [create one for free](https://azure.microsoft.com/free/)\n",
    "- Azure storage account - [create a storage account](https://docs.microsoft.com/en-us/azure/storage/common/storage-account-create)\n",
    "\n",
    "## Additional resources\n",
    "\n",
    "- [Introduction to Azure Blob storage](https://docs.microsoft.com/en-us/azure/storage/blobs/storage-blobs-introduction)\n",
    "- [API reference documentation](https://pkg.go.dev/github.com/Azure/azure-sdk-for-go/sdk/storage/azblob)\n",
    "- [Library source code](https://github.com/Azure/azure-sdk-for-go/tree/main/sdk/storage/azblob)\n",
    "- Samples"
   ]
  },
  {
   "cell_type": "markdown",
   "metadata": {},
   "source": [
    "## Imports\n",
    "\n",
    "First, import system packages and the Azure Blob Storage Go package."
   ]
  },
  {
   "cell_type": "code",
   "execution_count": 32,
   "metadata": {},
   "outputs": [],
   "source": [
    "package main\n",
    "\n",
    "import (\n",
    "  \"context\"\n",
    "  \"fmt\"\n",
    "  \"strings\"\n",
    "\n",
    "  \"github.com/Azure/azure-sdk-for-go/sdk/storage/azblob\"\n",
    ")"
   ]
  },
  {
   "cell_type": "markdown",
   "metadata": {},
   "source": [
    "Next we'll need credentials to authenticate to the Storage service"
   ]
  },
  {
   "cell_type": "code",
   "execution_count": 33,
   "metadata": {},
   "outputs": [],
   "source": [
    "accountName := os.Getenv(\"AZURE_STORAGE_ACCOUNT\")\n",
    "accountKey  := os.Getenv(\"AZURE_STORAGE_KEY\")\n",
    "serviceURL  := fmt.Sprintf(\"https://%s.blob.core.windows.net/\", accountName)\n",
    "ctx         := context.Background()"
   ]
  },
  {
   "cell_type": "markdown",
   "metadata": {},
   "source": [
    "## Create a service client\n",
    "\n",
    "The service client is the root client for accessing the storage account."
   ]
  },
  {
   "cell_type": "code",
   "execution_count": 34,
   "metadata": {},
   "outputs": [],
   "source": [
    "cred, _ := azblob.NewSharedKeyCredential(accountName, accountKey)\n",
    "serviceClient, _ := azblob.NewServiceClientWithSharedKey(serviceURL, cred, nil)"
   ]
  },
  {
   "cell_type": "markdown",
   "metadata": {},
   "source": [
    "## Create a container\n",
    "\n",
    "To create a container, obtain a container client from the service client specifying the name of the container to create.  Then call the Create method on the container client."
   ]
  },
  {
   "cell_type": "code",
   "execution_count": 35,
   "metadata": {},
   "outputs": [],
   "source": [
    "containerName := \"playground\""
   ]
  },
  {
   "cell_type": "code",
   "execution_count": null,
   "metadata": {},
   "outputs": [],
   "source": [
    "container := serviceClient.NewContainerClient(containerName)\n",
    "_, err := container.Create(ctx, nil)\n",
    "if err != nil {\n",
    "\tfmt.Printf(\"Error: %s\", err.Error())\n",
    "}"
   ]
  },
  {
   "cell_type": "markdown",
   "metadata": {},
   "source": [
    "Note that if the container already exists, the Create method will return an error.  Usually this is something that can be \n",
    "\n",
    "The following code illustrates how to check for and ignore specific errors using the [`StorageErrorCode`](https://pkg.go.dev/github.com/Azure/azure-sdk-for-go/sdk/storage/azblob#StorageErrorCode) in the Azure Storage Error response."
   ]
  },
  {
   "cell_type": "code",
   "execution_count": 36,
   "metadata": {},
   "outputs": [],
   "source": [
    "container := serviceClient.NewContainerClient(containerName)\n",
    "_, err := container.Create(ctx, nil)\n",
    "if err != nil {\n",
    "\tif strings.Contains(err.Error(), fmt.Sprintf(\"ErrorCode=%s\", azblob.StorageErrorCodeContainerAlreadyExists)) {\n",
    "\t\t// Container exists -- this is fine\n",
    "\t} else {\n",
    "\t\tfmt.Printf(\"Error: %s\", err.Error())\n",
    "\t}\n",
    "}"
   ]
  },
  {
   "cell_type": "markdown",
   "metadata": {},
   "source": [
    "## Upload a blob to a container\n",
    "\n",
    "To store data in a byte buffer to a blob, obtain a BlockBlob client from the container client, specifying the name of the blob.\n",
    "\n",
    "The data is passed to the Upload method as a [`ReadSeekCloser`](https://pkg.go.dev/io#ReadSeekCloser). The `streaming` package in the Azure SDK for Go provides the `NopCloser` method to obtain a `ReadSeekCloser` from a `ReadSeeker`."
   ]
  },
  {
   "cell_type": "code",
   "execution_count": 37,
   "metadata": {},
   "outputs": [],
   "source": [
    "blobName := \"blob.txt\"\n",
    "\n",
    "// blobData could come from a file, a network call, or elsewhere. Here we just use a static string.\n",
    "blobData := []byte(\"Hello World\")\n",
    "\n",
    "// Get a blobClient for the blob\n",
    "blockBlob := container.NewBlockBlobClient(blobName)"
   ]
  },
  {
   "cell_type": "code",
   "execution_count": 40,
   "metadata": {},
   "outputs": [
    {
     "ename": "ERROR",
     "evalue": "type <github.com/Azure/azure-sdk-for-go/sdk/storage/azblob.BlockBlobClient>: inconsistent 5-th method signature:\n\tgo/types.Type has receiver <var  github.com/Azure/azure-sdk-for-go/sdk/storage/azblob.BlockBlobClient> and 3 parameters: func(context.Context, io.ReadSeekCloser, *github.com/Azure/azure-sdk-for-go/sdk/storage/azblob.UploadBlockBlobOptions) (github.com/Azure/azure-sdk-for-go/sdk/storage/azblob.BlockBlobUploadResponse, error)\n\treflect.Type has 3 parameters: func(azblob.BlockBlobClient, context.Context, *azblob.DownloadBlobOptions) (*azblob.DownloadResponse, error)",
     "output_type": "error",
     "traceback": [
      "type <github.com/Azure/azure-sdk-for-go/sdk/storage/azblob.BlockBlobClient>: inconsistent 5-th method signature:\n\tgo/types.Type has receiver <var  github.com/Azure/azure-sdk-for-go/sdk/storage/azblob.BlockBlobClient> and 3 parameters: func(context.Context, io.ReadSeekCloser, *github.com/Azure/azure-sdk-for-go/sdk/storage/azblob.UploadBlockBlobOptions) (github.com/Azure/azure-sdk-for-go/sdk/storage/azblob.BlockBlobUploadResponse, error)\n\treflect.Type has 3 parameters: func(azblob.BlockBlobClient, context.Context, *azblob.DownloadBlobOptions) (*azblob.DownloadResponse, error)"
     ]
    }
   ],
   "source": [
    "// Upload the blobData to the blob\n",
    "_, err := blockBlob.Upload(ctx, streaming.NopCloser(bytes.NewReader(blobData)), /* options */ nil)"
   ]
  }
 ],
 "metadata": {
  "kernelspec": {
   "display_name": "Go",
   "language": "go",
   "name": "go"
  },
  "language_info": {
   "codemirror_mode": "",
   "file_extension": ".go",
   "mimetype": "",
   "name": "go",
   "nbconvert_exporter": "",
   "pygments_lexer": "",
   "version": "go1.17.2"
  },
  "orig_nbformat": 4
 },
 "nbformat": 4,
 "nbformat_minor": 2
}
